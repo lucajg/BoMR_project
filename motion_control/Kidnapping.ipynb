{
 "cells": [
  {
   "cell_type": "markdown",
   "id": "443b1c0c-dcd0-4cc6-a33e-a9df0d6e9ff0",
   "metadata": {},
   "source": [
    "# Mobile Robotics Project - Controlling Thymio\n",
    "The following report details how the Thymio robot was controlled through an obstacle filled course with sudden local obstacles added. A camera was implemented to create a map and track the position and orientation of the robot. These variables were then processed through a Kalman Filter combining odometry to output the necessary variables for a PID controller to direct the mobile robot. "
   ]
  },
  {
   "cell_type": "code",
   "execution_count": 4,
   "id": "96eda9f0-d469-4b93-a3cf-71261b5aa37c",
   "metadata": {
    "execution": {
     "iopub.execute_input": "2024-11-24T08:59:51.804589Z",
     "iopub.status.busy": "2024-11-24T08:59:51.796593Z",
     "iopub.status.idle": "2024-11-24T09:00:06.529496Z",
     "shell.execute_reply": "2024-11-24T09:00:06.529496Z",
     "shell.execute_reply.started": "2024-11-24T08:59:51.804589Z"
    }
   },
   "outputs": [
    {
     "name": "stdout",
     "output_type": "stream",
     "text": [
      "Requirement already satisfied: tqdm in c:\\users\\mmaqu\\anaconda3\\lib\\site-packages (4.66.4)\n",
      "Requirement already satisfied: scipy in c:\\users\\mmaqu\\anaconda3\\lib\\site-packages (1.13.1)\n",
      "Requirement already satisfied: colorama in c:\\users\\mmaqu\\anaconda3\\lib\\site-packages (from tqdm) (0.4.6)\n",
      "Requirement already satisfied: numpy<2.3,>=1.22.4 in c:\\users\\mmaqu\\anaconda3\\lib\\site-packages (from scipy) (1.26.4)\n"
     ]
    }
   ],
   "source": [
    "!pip install tqdm scipy"
   ]
  },
  {
   "cell_type": "code",
   "execution_count": 1,
   "id": "2a0c92c1-c2e8-41bb-957d-8bd155788756",
   "metadata": {
    "execution": {
     "iopub.execute_input": "2024-11-24T09:09:50.123380Z",
     "iopub.status.busy": "2024-11-24T09:09:50.115381Z",
     "iopub.status.idle": "2024-11-24T09:09:51.430045Z",
     "shell.execute_reply": "2024-11-24T09:09:51.430045Z",
     "shell.execute_reply.started": "2024-11-24T09:09:50.123380Z"
    }
   },
   "outputs": [
    {
     "name": "stdout",
     "output_type": "stream",
     "text": [
      "id:         897f4316-849f-452b-8c0a-a842ee0e03d1\n",
      "group id:   6193fec4-048a-4150-98b6-0c511867b962\n",
      "product id: 8 (Thymio II)\n",
      "name:       USB Serial Device\n",
      "status:     2 (available)\n",
      "cap:        7\n",
      "firmware:   14\n",
      "\n"
     ]
    }
   ],
   "source": [
    "#The exclamation point (!) allow to execute a terminal command in the notebook:\n",
    "!python -m tdmclient list"
   ]
  },
  {
   "cell_type": "code",
   "execution_count": 2,
   "id": "8b483937-02da-4a78-ac72-d6f5b43f7ae1",
   "metadata": {
    "execution": {
     "iopub.execute_input": "2024-11-24T09:09:51.438048Z",
     "iopub.status.busy": "2024-11-24T09:09:51.438048Z",
     "iopub.status.idle": "2024-11-24T09:09:51.816043Z",
     "shell.execute_reply": "2024-11-24T09:09:51.816043Z",
     "shell.execute_reply.started": "2024-11-24T09:09:51.438048Z"
    }
   },
   "outputs": [
    {
     "data": {
      "text/plain": [
       "Node 897f4316-849f-452b-8c0a-a842ee0e03d1"
      ]
     },
     "execution_count": 2,
     "metadata": {},
     "output_type": "execute_result"
    }
   ],
   "source": [
    "from tdmclient import ClientAsync\n",
    "client = ClientAsync()\n",
    "node = await client.wait_for_node()\n",
    "await node.lock()"
   ]
  },
  {
   "cell_type": "markdown",
   "id": "849c6642-4a41-4697-a4df-3fd1a67b07ca",
   "metadata": {},
   "source": [
    "## 1. Vision Processing\n",
    "The vision system takes the images captured by the camera and locates the robot, obstacles, goal and start position."
   ]
  },
  {
   "cell_type": "code",
   "execution_count": null,
   "id": "61205966-35ce-40a0-8b54-c2a6635d0f11",
   "metadata": {},
   "outputs": [],
   "source": []
  },
  {
   "cell_type": "markdown",
   "id": "71d4707d-d853-4cd0-b25f-b5c4159fd68b",
   "metadata": {
    "execution": {
     "iopub.execute_input": "2024-11-22T15:07:33.687404Z",
     "iopub.status.busy": "2024-11-22T15:07:33.687404Z",
     "iopub.status.idle": "2024-11-22T15:07:33.702835Z",
     "shell.execute_reply": "2024-11-22T15:07:33.700048Z",
     "shell.execute_reply.started": "2024-11-22T15:07:33.687404Z"
    }
   },
   "source": [
    "## 2. Global Navigation\n",
    "The A* algorithm was selected to create the ideal path for the robot to travel. The code for this algorithm was obtained from the solutions from the week 5 and modified to adapt the project specifications. "
   ]
  },
  {
   "cell_type": "code",
   "execution_count": 8,
   "id": "9288e00d-3607-4289-8bad-5585902f875c",
   "metadata": {
    "execution": {
     "iopub.execute_input": "2024-11-24T09:09:53.811193Z",
     "iopub.status.busy": "2024-11-24T09:09:53.803190Z",
     "iopub.status.idle": "2024-11-24T09:09:55.208768Z",
     "shell.execute_reply": "2024-11-24T09:09:55.208768Z",
     "shell.execute_reply.started": "2024-11-24T09:09:53.811193Z"
    }
   },
   "outputs": [
    {
     "name": "stdout",
     "output_type": "stream",
     "text": [
      "Path found:\n",
      "[(8, 5), (7, 4), (7, 3), (6, 2), (5, 1), (4, 1), (3, 1), (2, 2), (1, 2), (0, 2), (0, 1), (0, 0)]\n",
      "Number of operations: 53\n"
     ]
    },
    {
     "data": {
      "image/png": "[encoded data removed]",
      "text/plain": [
       "<Figure size 600x700 with 1 Axes>"
      ]
     },
     "metadata": {},
     "output_type": "display_data"
    }
   ],
   "source": [
    "# Code from exercises week 5, modified A* algorithm, BoMR course\n",
    "\n",
    "import numpy as np\n",
    "import matplotlib.pyplot as plt\n",
    "from matplotlib.colors import ListedColormap\n",
    "from heapq import heappush, heappop # used if you want to use heap queue for priority queue (easier to implement) but not compulsory\n",
    "\n",
    "def heuristic(a, b):\n",
    "    # Implement the Euclidean distance heuristic\n",
    "    return np.sqrt((a[0] - b[0])**2 + (a[1] - b[1])**2)\n",
    "\n",
    "def in_grid(grid, pos):\n",
    "    return 0 <= pos[0] < grid.shape[0] and 0 <= pos[1] < grid.shape[1]\n",
    "\n",
    "def is_obstacle(grid, pos):\n",
    "    return not in_grid(grid, pos) or (grid[pos] == -1)\n",
    "\n",
    "async def a_star_search(map_grid, start, goal):\n",
    "    # Initialize the open set as a priority queue and add the start node\n",
    "    open_set = []\n",
    "    heappush(open_set, (heuristic(start, goal), 0, start))  # (f_cost, g_cost, position)\n",
    "\n",
    "    # Initialize the came_from dictionary\n",
    "    came_from = {}\n",
    "    # Initialize g_costs dictionary with default value of infinity and set g_costs[start] = 0\n",
    "    g_costs = {start: 0}\n",
    "    # Initialize the explored set\n",
    "    explored = set()\n",
    "    operation_count = 0\n",
    "\n",
    "    while open_set:\n",
    "        # Pop the node with the lowest f_cost from the open set\n",
    "        current_f_cost, current_g_cost, current_pos = heappop(open_set)\n",
    "\n",
    "        # Add the current node to the explored set\n",
    "        explored.add(current_pos)\n",
    "\n",
    "        # For directly reconstruct path\n",
    "        if current_pos == goal:\n",
    "            break\n",
    "        \n",
    "        up         = (current_pos[0] - 1, current_pos[1]    )\n",
    "        down       = (current_pos[0] + 1, current_pos[1]    )  # Down\n",
    "        left       = (current_pos[0]    , current_pos[1] - 1)  # Left\n",
    "        right      = (current_pos[0]    , current_pos[1] + 1)  # Right\n",
    "        up_left    = (current_pos[0] - 1, current_pos[1] - 1)  # Up Left\n",
    "        down_right = (current_pos[0] + 1, current_pos[1] + 1)  # Down Right\n",
    "        down_left  = (current_pos[0] + 1, current_pos[1] - 1)  # Down Left\n",
    "        up_right   = (current_pos[0] - 1, current_pos[1] + 1)   # Up Right\n",
    "        # Get the neighbors of the current node (up, down, left, right)\n",
    "        neighbors = [up, down, left, right, up_left, down_right, down_left, up_right]\n",
    "        \n",
    "        \n",
    "        if is_obstacle(map_grid, up) or is_obstacle(map_grid, left) :\n",
    "                neighbors.remove(up_left)\n",
    "        \n",
    "        if is_obstacle(map_grid, up) or is_obstacle(map_grid, right):\n",
    "                neighbors.remove(up_right)\n",
    "                \n",
    "        if is_obstacle(map_grid, down) or is_obstacle(map_grid, right):\n",
    "                neighbors.remove(down_right)\n",
    "                \n",
    "        if is_obstacle(map_grid, down) or is_obstacle(map_grid, left):\n",
    "                neighbors.remove(down_left)\n",
    "            \n",
    "                \n",
    "        for neighbor in neighbors:\n",
    "            # Check if neighbor is within bounds and not an obstacle\n",
    "            if (in_grid(map_grid,neighbor)) and map_grid[neighbor[0], neighbor[1]] != -1 and neighbor not in explored:\n",
    "                # Calculate tentative_g_cost\n",
    "                tentative_g_cost = current_g_cost + heuristic(current_pos, neighbor)\n",
    "                \n",
    "                # If this path to neighbor is better than any previous one\n",
    "                if neighbor not in g_costs or tentative_g_cost < g_costs[neighbor]:\n",
    "                    # Update came_from, g_costs, and f_cost\n",
    "                    came_from[neighbor] = current_pos\n",
    "                    g_costs[neighbor] = tentative_g_cost\n",
    "                    f_cost = tentative_g_cost + heuristic(neighbor, goal)\n",
    "\n",
    "                    # Add neighbor to open set\n",
    "                    heappush(open_set, (f_cost, tentative_g_cost, neighbor))\n",
    "                    operation_count += 1\n",
    "\n",
    "    # Reconstruct path\n",
    "    if current_pos == goal:\n",
    "        path = []\n",
    "        while current_pos in came_from:\n",
    "            path.append(current_pos)\n",
    "            current_pos = came_from[current_pos]\n",
    "        path.append(start)\n",
    "        return path[::-1], explored,operation_count\n",
    "    else:\n",
    "        # If we reach here, no path was found\n",
    "        return None, explored,operation_count\n",
    "    \n",
    "    \n",
    "##############################################\n",
    "#do not modify this code\n",
    "##############################################\n",
    "def display_map(map_grid, path, start, goal, explored):\n",
    "    cmap = ListedColormap(['white', 'black', 'blue', 'green', 'red', 'grey'])\n",
    "    map_display = np.zeros_like(map_grid, dtype=object)\n",
    "\n",
    "    # Assign colors based on the map grid values\n",
    "    map_display[map_grid == -1] = 'black'  # Obstacles\n",
    "    map_display[map_grid == 0] = 'white'   # Free space\n",
    "\n",
    "    for position in explored:\n",
    "        if map_display[tuple(position)] == 'white':\n",
    "            map_display[tuple(position)] = 'grey'  # Explored cells\n",
    "\n",
    "    # Visualize the path\n",
    "    for position in path:\n",
    "        if map_display[position[0], position[1]] in ['white', 'grey']:\n",
    "            map_display[position[0], position[1]] = 'blue'  # Path\n",
    "\n",
    "    map_display[start[0], start[1]] = 'green'  # Start\n",
    "    map_display[goal[0], goal[1]] = 'red'      # Goal\n",
    "\n",
    "    # Convert color names to numbers for plotting\n",
    "    color_mapping = {'white': 0, 'black': 1, 'blue': 2, 'green': 3, 'red': 4, 'grey': 5, 'yellow': 6}\n",
    "    map_numeric_display = np.vectorize(color_mapping.get)(map_display)\n",
    "    fig, ax = plt.subplots(figsize=(6, 7))\n",
    "    ax.imshow(map_numeric_display, cmap=cmap)\n",
    "    ax.set_xticks(np.arange(-0.5, map_grid.shape[1], 1), minor=True)\n",
    "    ax.set_yticks(np.arange(-0.5, map_grid.shape[0], 1), minor=True)\n",
    "    ax.grid(which='minor', color='gray', linestyle='-', linewidth=0.5)\n",
    "    ax.tick_params(which='both', bottom=False, left=False, labelbottom=False, labelleft=False)\n",
    "    ax.set_title('a_star_search Visualization')\n",
    "    plt.show()\n",
    "\n",
    "map_height = 9\n",
    "map_width = 6\n",
    "Map = np.zeros((map_height, map_width))\n",
    "\n",
    "\n",
    "\n",
    "Map[8, 1] = -1; Map[6, 4:6] = -1; Map[4, 2:3] = -1; Map[3, 3] = -1; Map[1, 1] = -1; Map[2, 0] = -1\n",
    "\n",
    "SearchStart =  (8, 5)\n",
    "SearchGoal  =  (0, 0)\n",
    "\n",
    "path, explored, operation_count = await a_star_search(Map, SearchStart, SearchGoal)\n",
    "\n",
    "# Display the result\n",
    "if path:\n",
    "    print(\"Path found:\")\n",
    "    print(path)\n",
    "    print(f\"Number of operations: {operation_count}\")\n",
    "    display_map(Map, path, SearchStart, SearchGoal, explored)\n",
    "else:\n",
    "    print(\"No path found.\")"
   ]
  },
  {
   "cell_type": "markdown",
   "id": "d2c1a92d-6f5b-4cef-99ac-2495d0582ff5",
   "metadata": {},
   "source": [
    "With the most efficient path stored, the critical points, meaning changes in orientation, were stored in a new list that defined the goals for the controller. This list is produced by the following function. "
   ]
  },
  {
   "cell_type": "code",
   "execution_count": 10,
   "id": "e8a9826f-87d2-4746-86c1-c220942584c7",
   "metadata": {
    "execution": {
     "iopub.execute_input": "2024-11-24T09:09:55.258718Z",
     "iopub.status.busy": "2024-11-24T09:09:55.258718Z",
     "iopub.status.idle": "2024-11-24T09:09:55.288828Z",
     "shell.execute_reply": "2024-11-24T09:09:55.288828Z",
     "shell.execute_reply.started": "2024-11-24T09:09:55.258718Z"
    }
   },
   "outputs": [
    {
     "name": "stdout",
     "output_type": "stream",
     "text": [
      "A* path:            [(8, 5), (7, 4), (7, 3), (6, 2), (5, 1), (4, 1), (3, 1), (2, 2), (1, 2), (0, 2), (0, 1), (0, 0)]\n",
      "Reduced goal list:  [(8, 5), (7, 4), (7, 3), (5, 1), (3, 1), (2, 2), (0, 2), (0, 0)]\n"
     ]
    }
   ],
   "source": [
    "# Takes the path created by the A* algorithm as an argument and removes the points with a repeated orientation\n",
    "\n",
    "async def goal_list_from_path(path):\n",
    "    goal_list = path.copy()\n",
    "    popped = 0\n",
    "    for i in range(len(path)-2):\n",
    "        # Checks if three consecutive points lie in a straiExght line and removes middle because it is redundant\n",
    "        if (path[i+1][0] - path[i][0] == path[i+2][0] - path[i+1][0]) and (path[i+1][1] - path[i][1] == path[i+2][1] - path[i+1][1]):\n",
    "            goal_list.pop(i+1 - popped)\n",
    "            popped += 1\n",
    "    return goal_list\n",
    "\n",
    "goal_list = await goal_list_from_path(path)\n",
    "\n",
    "print(\"A* path:           \", path)\n",
    "print(\"Reduced goal list: \", goal_list)"
   ]
  },
  {
   "cell_type": "markdown",
   "id": "338384bf-b185-42f3-8bd7-f377103b6860",
   "metadata": {
    "execution": {
     "iopub.execute_input": "2024-11-22T15:07:47.335947Z",
     "iopub.status.busy": "2024-11-22T15:07:47.335947Z",
     "iopub.status.idle": "2024-11-22T15:07:47.350706Z",
     "shell.execute_reply": "2024-11-22T15:07:47.350706Z",
     "shell.execute_reply.started": "2024-11-22T15:07:47.335947Z"
    }
   },
   "source": [
    "## 3. Local Navigation\n",
    "The local navigation relies on the horizontal sensors of the Thymio. If an object is detected, the robot changes the velocity of the motors to effectively avoid it. The motor velocity changes are made through the **weights**. Each weight determines how a sensor impacts the robots movement which is why the weights for each motor (output) are symmetric, but opposite in sign. In this way, when a sensor detects an obstacle the motors respond in a way that steer it away. \n",
    "\n",
    "The code can be seen as a single-layer neural network where the input is the proximity sensor (9 elements) and the output is each motor (2). Parts of the code were taken from the solutions to the third week exercises on Artificial Neural Networks. "
   ]
  },
  {
   "cell_type": "code",
   "execution_count": 12,
   "id": "fe55f8a3-3abe-4919-90d5-291c1851913d",
   "metadata": {
    "execution": {
     "iopub.execute_input": "2024-11-24T09:09:55.349747Z",
     "iopub.status.busy": "2024-11-24T09:09:55.341744Z",
     "iopub.status.idle": "2024-11-24T09:09:55.885376Z",
     "shell.execute_reply": "2024-11-24T09:09:55.885376Z",
     "shell.execute_reply.started": "2024-11-24T09:09:55.349747Z"
    }
   },
   "outputs": [
    {
     "name": "stdout",
     "output_type": "stream",
     "text": [
      "[0, 0, 0, 0, 0, 0, 0]\n",
      "[0, 0, 0, 0, 0, 0, 0]\n"
     ]
    }
   ],
   "source": [
    "## For testing functionality of the sensors\n",
    "\n",
    "# Function was obtained from the solutions of the week 3 exercises covering artificial neural networks\n",
    "async def print_sensor_values(sensor_id, print_range=2, delta_time=0.2):\n",
    "    \"\"\"\n",
    "    Print the sensor value sensor_id print_range times, every delta_time seconds\n",
    "    \"\"\"\n",
    "    await node.wait_for_variables({str(sensor_id)})\n",
    "    for i in range(print_range):\n",
    "        print(list(node[sensor_id]))\n",
    "        await client.sleep(delta_time)\n",
    "        \n",
    "await print_sensor_values('prox.horizontal')"
   ]
  },
  {
   "cell_type": "code",
   "execution_count": 13,
   "id": "a787e241-c0e3-4e8e-8da6-a71a8694fa17",
   "metadata": {
    "execution": {
     "iopub.execute_input": "2024-11-24T09:09:55.893388Z",
     "iopub.status.busy": "2024-11-24T09:09:55.893388Z",
     "iopub.status.idle": "2024-11-24T09:09:55.946934Z",
     "shell.execute_reply": "2024-11-24T09:09:55.946934Z",
     "shell.execute_reply.started": "2024-11-24T09:09:55.893388Z"
    }
   },
   "outputs": [],
   "source": [
    "## Function to obtain the sensor values from the selected type of sensors. Similar to function print_sensor_values obtained from solutions for week 3 exercises\n",
    "\n",
    "async def get_sensor_values(sensor_id, delay=0.01):\n",
    "    await client.sleep(delay)\n",
    "    sensor_values = list(node[sensor_id])  # Retrieve the current values\n",
    "    return sensor_values  # Return the collected sensor values as a list\n",
    "\n",
    "horizontal_sensor_values = await get_sensor_values('prox.horizontal')"
   ]
  },
  {
   "cell_type": "code",
   "execution_count": 14,
   "id": "ad29998b-9995-4e39-abf3-28cb2d457923",
   "metadata": {
    "execution": {
     "iopub.execute_input": "2024-11-24T09:09:55.962936Z",
     "iopub.status.busy": "2024-11-24T09:09:55.962936Z",
     "iopub.status.idle": "2024-11-24T09:09:55.995668Z",
     "shell.execute_reply": "2024-11-24T09:09:55.995668Z",
     "shell.execute_reply.started": "2024-11-24T09:09:55.962936Z"
    }
   },
   "outputs": [],
   "source": [
    "## Function to verify if there are any obstacles. Gets the current readings of the get_sensor_values function for the horizontal sensors\n",
    "## If the value of the sensor is above the proximity threshold, it sends a 1\n",
    "\n",
    "async def check_obstacles(proximity_threshold=2000):\n",
    "    horizontal_sensor_values = await get_sensor_values('prox.horizontal')\n",
    "    if any(x > proximity_threshold for x in horizontal_sensor_values):\n",
    "        return 1  # Obstacle detected\n",
    "    return 0  # No obstacle"
   ]
  },
  {
   "cell_type": "code",
   "execution_count": 15,
   "id": "c533436d-52c1-4f91-b425-fb6b05afe580",
   "metadata": {
    "execution": {
     "iopub.execute_input": "2024-11-24T09:09:56.011667Z",
     "iopub.status.busy": "2024-11-24T09:09:56.003674Z",
     "iopub.status.idle": "2024-11-24T09:09:56.033142Z",
     "shell.execute_reply": "2024-11-24T09:09:56.033142Z",
     "shell.execute_reply.started": "2024-11-24T09:09:56.011667Z"
    }
   },
   "outputs": [],
   "source": [
    "## Function to avoid obstacles based on neural network\n",
    "## Obtained from solutions for week 3 exercises and adapted to satisfy speed requirements and asynchronous functionality\n",
    "\n",
    "async def obstacle_avoidance(left_output=0, right_output=0):\n",
    "    # Define weights for left and right motors\n",
    "    w_l = [40, 20, -20, -20, -40, 30, -10]\n",
    "    w_r = [-40, -20, -20, 20, 40, -10, 30]\n",
    "\n",
    "    # Scale factors for sensors and constant factor\n",
    "    sensor_scale = 500\n",
    "    \n",
    "    # Read proximity sensor values\n",
    "    prox_values = list(node['prox.horizontal'])\n",
    "    \n",
    "    # Compute motor outputs based on the scaled sensor values\n",
    "    for i in range(len(prox_values)):\n",
    "        # Scale the sensor readings\n",
    "        scaled_value = prox_values[i] // sensor_scale\n",
    "        \n",
    "        # Update outputs for left and right motors\n",
    "        left_output += scaled_value * w_l[i] // 3\n",
    "        right_output += scaled_value * w_r[i] // 3\n",
    "\n",
    "    # Set motor powers\n",
    "    await node.set_variables(motors(left_output, right_output))\n",
    "    print(f\"Left Motor: {left_output}, Right Motor: {right_output}\")\n",
    "    \n",
    "    return left_output, right_output"
   ]
  },
  {
   "cell_type": "markdown",
   "id": "b9ee0ce1-914e-453f-a899-115bce7df937",
   "metadata": {},
   "source": [
    "## 4. Kalman Filter"
   ]
  },
  {
   "cell_type": "markdown",
   "id": "10e1a5e2-9660-4d66-bde6-f4c406bcf60f",
   "metadata": {},
   "source": [
    "## 5. Motion Control"
   ]
  },
  {
   "cell_type": "markdown",
   "id": "eaeb6a4f-3562-4cb9-af94-563a2757b18f",
   "metadata": {},
   "source": [
    "### 5.1 PID Control\r\n",
    "\r\n",
    "To effectively create a controller to ensure the robot was able to follow the path, a PID controller based on the orientation error of the robot was employed. The orientation is obtained through the camera and processed with the Kalman filter to effectively control the robot. A series of functions were used to create the controller based on the error measured between the desired path and the actual measurements. The appropriate gains were selected after testing their effect and identifying the desired response for the robot. The following considerations were taken into account:\r\n",
    "\r\n",
    "#### Proportional Gain (\\(k_p\\))\r\n",
    "- Controls the strength of the robot's response to the current error.\r\n",
    "- Determines the time taken to correct the error (avoiding overshooting or overly slow responses).\r\n",
    "\r\n",
    "#### Integral Gain (\\(k_i\\))\r\n",
    "- Controls the accumulation of errors in the past through an integration operation.\r\n",
    "- Ensures there are no steady-state errors by compensating for persistent offsets.\r\n",
    "\r\n",
    "#### Derivative Gain (\\(k_d\\))\r\n",
    "- Controls the robot's reaction to the rate of change of the error.\r\n",
    "- Determines the sensitivity of the controller, ensuring the correction rate is neither too aggressive nor too delayed.\r\n",
    "\r\n",
    "To test the controller, a simulator was employed, and the correseponding codes a\n",
    " also included.\r\n"
   ]
  },
  {
   "cell_type": "markdown",
   "id": "acfc9f52-c1d4-4826-9695-b677b9bbf986",
   "metadata": {},
   "source": [
    "The following function takes as input the desired x and y positions as well as the current positions to get the errors. This will be used in the PID controller. For position, the Euclidean distance norm is used: \n",
    "\\begin{equation} \n",
    "dist error = \\sqrt{x_{err}^2 + y_{err}^2} \n",
    "\\end{equation}\n",
    "\n",
    "For orientation, the following equation is used:\n",
    "\\begin{equation} \n",
    "\\phi_d = \\arctan2(y_{\\text{err}}, x_{\\text{err}}) \n",
    "\\end{equation} \n",
    "\\begin{equation} \n",
    "\\phi_{\\text{err}} = \\phi_d - \\phi \n",
    "\\end{equation}\n",
    "\n",
    "The orientation error is then normalized to the range -180° to 180°. "
   ]
  },
  {
   "cell_type": "code",
   "execution_count": 20,
   "id": "947cf901-9fcb-4217-ac5e-7c7528cda6f0",
   "metadata": {
    "execution": {
     "iopub.execute_input": "2024-11-24T09:09:56.288212Z",
     "iopub.status.busy": "2024-11-24T09:09:56.288212Z",
     "iopub.status.idle": "2024-11-24T09:09:56.301869Z",
     "shell.execute_reply": "2024-11-24T09:09:56.301869Z",
     "shell.execute_reply.started": "2024-11-24T09:09:56.288212Z"
    }
   },
   "outputs": [],
   "source": [
    "## This function calculates the position and orientation errors based on the estimated and desired positions of the robot\n",
    "# from https://felipenmartins.github.io/Robotics-Simulation-Labs/Lab4/\n",
    "import numpy as np\n",
    "\n",
    "async def get_pose_error(xd, yd, x, y, phi):\n",
    "    \"\"\" Returns the position and orientation errors. \n",
    "        Orientation error is bounded between -pi and +pi radians.\n",
    "    \"\"\"\n",
    "    # Position error:\n",
    "    x_err = xd - x\n",
    "    y_err = yd - y\n",
    "    dist_err = np.sqrt(x_err**2 + y_err**2) # Euclidean distance\n",
    "\n",
    "    # Orientation error\n",
    "    phi_d = np.arctan2(y_err,x_err)\n",
    "    phi_err = phi_d - phi\n",
    "\n",
    "    # Limits the error to (-pi, pi):\n",
    "    phi_err_correct = np.arctan2(np.sin(phi_err),np.cos(phi_err))\n",
    "\n",
    "    return dist_err, phi_err_correct"
   ]
  },
  {
   "cell_type": "markdown",
   "id": "04e1f17a-a1a1-4964-b8ee-45fc759098d2",
   "metadata": {},
   "source": [
    "This definition defines a PID controller defining the gains for each of the terms. It takes as input the current error, the error from the previous step, the accumulated error and the time step and applies the following equation. The Gains can be declared as a result of trial and error. The PID function is composed of the following:\n",
    "\\begin{equation} P = k_p \\cdot e \\end{equation}\n",
    "\\begin{equation} I = e_{\\text{acc}} + k_i \\cdot e \\cdot \\Delta t \\end{equation}\n",
    "\\begin{equation} D = k_d \\cdot \\frac{e - e_{\\text{prev}}}{\\Delta t} \\end{equation}\n",
    "\\begin{equation}\n",
    "\\text{Output} = k_p \\cdot e + k_i \\cdot \\int e \\, dt + k_d \\cdot \\frac{de}{dt}\n",
    "\\end{equation}"
   ]
  },
  {
   "cell_type": "code",
   "execution_count": 22,
   "id": "9af6b96f-1c33-4f30-818b-e67ca3e87739",
   "metadata": {
    "execution": {
     "iopub.execute_input": "2024-11-24T09:09:56.349457Z",
     "iopub.status.busy": "2024-11-24T09:09:56.349457Z",
     "iopub.status.idle": "2024-11-24T09:09:56.364483Z",
     "shell.execute_reply": "2024-11-24T09:09:56.364483Z",
     "shell.execute_reply.started": "2024-11-24T09:09:56.349457Z"
    }
   },
   "outputs": [],
   "source": [
    "## This function implements a \"goal to goal\" behavior meaning that it controls the robot orientation by adjusting the angular speed\n",
    "# from https://felipenmartins.github.io/Robotics-Simulation-Labs/Lab4/\n",
    "\n",
    "async def pid_controller(e, e_prev, e_acc, delta_t, kp=1.0, kd=0, ki=0):\n",
    "    \"\"\" \n",
    "    PID algortithm: must be executed every delta_t seconds\n",
    "    The error e must be calculated as: e = desired_value - actual_value\n",
    "    e_prev contains the error calculated in the previous step.\n",
    "    e_acc contains the integration (accumulation) term.\n",
    "    \"\"\"\n",
    "    P = kp*e                      # Proportional term; kp is the proportional gain\n",
    "    I = e_acc + ki*e*delta_t      # Intergral term; ki is the integral gain\n",
    "    D = kd*(e - e_prev)/delta_t   # Derivative term; kd is the derivative gain\n",
    "\n",
    "    output = P + I + D              # controller output, angular velocity in this case\n",
    "\n",
    "    # store values for the next iteration\n",
    "    e_prev = e     # error value in the previous interation (to calculate the derivative term)\n",
    "    e_acc = I      # accumulated error value (to calculate the integral term)\n",
    "\n",
    "    return output, e_prev, e_acc"
   ]
  },
  {
   "cell_type": "markdown",
   "id": "ed09bac4-a886-4217-b981-0d94473f33c2",
   "metadata": {
    "execution": {
     "iopub.execute_input": "2024-11-23T14:21:32.089093Z",
     "iopub.status.busy": "2024-11-23T14:21:32.088096Z",
     "iopub.status.idle": "2024-11-23T14:21:32.131148Z",
     "shell.execute_reply": "2024-11-23T14:21:32.124152Z",
     "shell.execute_reply.started": "2024-11-23T14:21:32.089093Z"
    }
   },
   "source": [
    "Taking the output of the PID controller (angular speed), the speed for each wheel is calculated with the following equations. The linear speed remains constant to avoid complex behaviors and inaccurate position estimation. \n",
    "\\begin{equation} w_{r_d} = \\frac{2u_d - dw_d}{2r} \\end{equation} \n",
    "\\begin{equation} w_{l_d} = \\frac{2u_d + dw_d}{2r} \\end{equation}"
   ]
  },
  {
   "cell_type": "code",
   "execution_count": 24,
   "id": "5beec4dd-46ae-41ed-b74e-186c9d1932ef",
   "metadata": {
    "execution": {
     "iopub.execute_input": "2024-11-24T09:09:56.410099Z",
     "iopub.status.busy": "2024-11-24T09:09:56.410099Z",
     "iopub.status.idle": "2024-11-24T09:09:56.427847Z",
     "shell.execute_reply": "2024-11-24T09:09:56.427847Z",
     "shell.execute_reply.started": "2024-11-24T09:09:56.410099Z"
    }
   },
   "outputs": [],
   "source": [
    "## This function calculates the speeds for the left and right wheels based on the desired values of linear and angular speeds\n",
    "# from https://felipenmartins.github.io/Robotics-Simulation-Labs/Lab4/\n",
    "\n",
    "async def wheel_speed_commands(u_d, w_d, d, r):\n",
    "    \"\"\"\n",
    "    Convert desired robot speeds to desired wheel speeds\n",
    "    \"\"\"\n",
    "    wr_d = float((2 * u_d - d * w_d) / (2 * r))\n",
    "    wl_d = float((2 * u_d + d * w_d) / (2 * r))\n",
    "    \n",
    "    # If saturated, correct speeds to keep the original turning ratio\n",
    "    #if np.abs(wl_d) > MAX_SPEED or np.abs(wr_d) > MAX_SPEED:\n",
    "     #   speed_ratio = np.abs(wr_d)/np.abs(wl_d)\n",
    "      #  if speed_ratio > 1:\n",
    "       #     wr_d = np.sign(wr_d)*MAX_SPEED\n",
    "        #    wl_d = np.sign(wl_d)*MAX_SPEED/speed_ratio\n",
    "        #else:\n",
    "         #   wl_d = np.sign(wl_d)*MAX_SPEED\n",
    "          #  wr_d = np.sign(wr_d)*MAX_SPEED*speed_ratio\n",
    "        \n",
    "    return wl_d, wr_d"
   ]
  },
  {
   "cell_type": "markdown",
   "id": "d5f3f5b4-b491-4cc1-b059-6cd8af83021c",
   "metadata": {},
   "source": [
    "Based on the speeds of the wheels, the function updates the robot's position virtually. \n",
    "\n",
    "\\begin{equation} \\text{Forward Speed} = \\frac{r \\cdot (w_r + w_l)}{2} \\end{equation} \n",
    "\\begin{equation} \\text{Angular Speed} = \\frac{r \\cdot (w_l - w_r)}{d} \\end{equation}\n",
    "\n",
    "\\begin{equation} x = \\text{Forward Speed} \\cdot \\cos(\\phi) \\cdot \\Delta t + x_{prev} \\end{equation} \n",
    "\\begin{equation} y = \\text{Forward Speed} \\cdot \\sin(\\phi) \\cdot \\Delta t + y_{prev} \\end{equation}\n",
    "\n",
    "\\begin{equation} \\phi = \\text{Angular Speed} \\cdot \\Delta t + phi_{prev} \\end{equation} \n",
    "\\begin{equation} \\phi = \\arctan2(\\sin(\\phi), \\cos(\\phi)) \\end{equation}"
   ]
  },
  {
   "cell_type": "code",
   "execution_count": 26,
   "id": "4d9664b2-e057-4172-b914-5a58372410d9",
   "metadata": {
    "execution": {
     "iopub.execute_input": "2024-11-24T09:09:56.467350Z",
     "iopub.status.busy": "2024-11-24T09:09:56.467350Z",
     "iopub.status.idle": "2024-11-24T09:09:56.482198Z",
     "shell.execute_reply": "2024-11-24T09:09:56.482198Z",
     "shell.execute_reply.started": "2024-11-24T09:09:56.467350Z"
    }
   },
   "outputs": [],
   "source": [
    "async def update_odometry(x, y, phi, wl, wr, d, r, delta_t):\n",
    "    # Update robot's position and orientation using odometry\n",
    "    forward_speed = (wr + wl) * r / 2\n",
    "    angular_speed = (wl - wr) * r / d\n",
    "\n",
    "    x += forward_speed * np.cos(phi) * delta_t / 14\n",
    "    y += forward_speed * np.sin(phi) * delta_t / 14\n",
    "    phi += angular_speed * delta_t\n",
    "\n",
    "    # Keep phi within (-pi, pi)\n",
    "    phi = np.arctan2(np.sin(phi), np.cos(phi))\n",
    "\n",
    "    return x, y, phi"
   ]
  },
  {
   "cell_type": "code",
   "execution_count": 27,
   "id": "3bbb8cb2-1136-416e-b9e3-360faa08baf8",
   "metadata": {
    "execution": {
     "iopub.execute_input": "2024-11-24T09:09:56.490199Z",
     "iopub.status.busy": "2024-11-24T09:09:56.482198Z",
     "iopub.status.idle": "2024-11-24T09:09:56.509084Z",
     "shell.execute_reply": "2024-11-24T09:09:56.509084Z",
     "shell.execute_reply.started": "2024-11-24T09:09:56.490199Z"
    }
   },
   "outputs": [],
   "source": [
    "async def check_kidnapping():\n",
    "    # Get the current ground sensor values\n",
    "    ground_sensor_values = await get_sensor_values('prox.ground.reflected')\n",
    "\n",
    "    # Debugging print to observe sensor values\n",
    "    #print(f\"Ground Sensor Values: {ground_sensor_values}\")\n",
    "\n",
    "    # Threshold to detect lifting\n",
    "    ground_threshold = 25  \n",
    "\n",
    "    # Check if both ground sensors are below the threshold\n",
    "    if ground_sensor_values[1] < ground_threshold and ground_sensor_values[0] < ground_threshold:\n",
    "        print(\"Kidnapping detected! Robot lifted off the ground. Check_kidnapping function\")\n",
    "        return 1  # Return 1 for kidnapping state\n",
    "    else:\n",
    "        return 0  # Normal operation"
   ]
  },
  {
   "cell_type": "markdown",
   "id": "9bb0dd0a-f3ae-419f-b2e3-ad72cab48129",
   "metadata": {},
   "source": [
    "### 5.2 Main Control Loop combining the global and local navigation\r\n"
   ]
  },
  {
   "cell_type": "markdown",
   "id": "1255bad1-194b-4f6b-b1df-120ac6ab9923",
   "metadata": {},
   "source": [
    "The main control loop is the bases of the robot's navigation system allowing the robot to follow the global path created with A* while continuously checking for obstacles and adjusting its movement using odometry and PID control. The loop operates as follows:\n",
    "\n",
    "1. **Path Following**: The robot navigates in the key points (turning points in the A*) in the goal list, moving from one goal to the next.\n",
    "2. **Obstacle Detection**: The robot checks for nearby obstacles using proximity sensors. If an obstacle is detected, it triggers an obstacle avoidance routine.\n",
    "3. **Pose Error Calculation**: The robot calculates the error considering the next point and the current robot orientation.\n",
    "4. **PID Controller**: A PID controller processes the orientation error to compute an angular speed command, ensuring smooth and accurate movements. Given that the Thymio actuators are not precise, this controller helps ensure the accurate path is taken. Similarly, when a local obstacle is detected, the PID controller ensures the path is retaken.\n",
    "5. **Wheel Speed Commands**: The desired forward and angular speeds are converted into individual wheel speeds for the robot's motors.\n",
    "6. **Odometry Updates**: The robot's position and orientation are updated in real time using odometry, based on the wheel movements.\n",
    "7. **Goal Reached Check**: If the robot reaches a goal within a predefined tolerance, it advances to the next goal."
   ]
  },
  {
   "cell_type": "markdown",
   "id": "532f505b-f40d-40be-982a-2cf7a24fdd06",
   "metadata": {},
   "source": [
    "#### State Machine Archtecture\n",
    "The overall structure of the main control loop is based on a state machine. \n",
    "- **State 0: Path Following**\n",
    "The robot follows the predefined path (A*) with the PID control.\n",
    "- **State 1: Obstacle Avoidance** \n",
    "Obstacle avoidance procedure based on Neural Networks.\n",
    "- **State 2: Path Recalculation** \n",
    "Creates a new grid and recomputes the ideal path."
   ]
  },
  {
   "cell_type": "code",
   "execution_count": 31,
   "id": "3f6e02a5-c471-4318-937d-2d37180e35a1",
   "metadata": {
    "execution": {
     "iopub.execute_input": "2024-11-24T09:09:56.633410Z",
     "iopub.status.busy": "2024-11-24T09:09:56.633410Z",
     "iopub.status.idle": "2024-11-24T09:09:56.646507Z",
     "shell.execute_reply": "2024-11-24T09:09:56.646507Z",
     "shell.execute_reply.started": "2024-11-24T09:09:56.633410Z"
    }
   },
   "outputs": [],
   "source": [
    "## Function from exercises week 8, BoMR course\n",
    "\n",
    "def motors(left, right):\n",
    "    return {\n",
    "        \"motor.left.target\": [left],\n",
    "        \"motor.right.target\": [right],\n",
    "    }"
   ]
  },
  {
   "cell_type": "code",
   "execution_count": 32,
   "id": "57c23035-cbba-46c6-b034-ef72d4cc8270",
   "metadata": {
    "execution": {
     "iopub.execute_input": "2024-11-24T09:09:56.654508Z",
     "iopub.status.busy": "2024-11-24T09:09:56.646507Z",
     "iopub.status.idle": "2024-11-24T09:09:56.667800Z",
     "shell.execute_reply": "2024-11-24T09:09:56.667800Z",
     "shell.execute_reply.started": "2024-11-24T09:09:56.654508Z"
    }
   },
   "outputs": [],
   "source": [
    "## For testing functionality of the motor (signal reception)\n",
    "node.send_set_variables(motors(100, 100))"
   ]
  },
  {
   "cell_type": "code",
   "execution_count": 35,
   "id": "bbcab42f-1fa4-4645-ad6c-0b022eed1215",
   "metadata": {
    "execution": {
     "iopub.execute_input": "2024-11-24T09:09:56.750180Z",
     "iopub.status.busy": "2024-11-24T09:09:56.750180Z",
     "iopub.status.idle": "2024-11-24T09:09:56.765356Z",
     "shell.execute_reply": "2024-11-24T09:09:56.765356Z",
     "shell.execute_reply.started": "2024-11-24T09:09:56.750180Z"
    }
   },
   "outputs": [],
   "source": [
    "## For testing functionality\n",
    "node.send_set_variables(motors(0, 0))"
   ]
  },
  {
   "cell_type": "markdown",
   "id": "ffaba442-32a2-45ff-bcfd-da95454a5603",
   "metadata": {},
   "source": [
    "The main control loop defines several initial values which were established based on testing results. "
   ]
  },
  {
   "cell_type": "code",
   "execution_count": 107,
   "id": "380fd18a-c01d-47a1-aa2d-217473b56af1",
   "metadata": {
    "execution": {
     "iopub.execute_input": "2024-11-24T09:38:49.505779Z",
     "iopub.status.busy": "2024-11-24T09:38:49.497790Z",
     "iopub.status.idle": "2024-11-24T09:38:49.583655Z",
     "shell.execute_reply": "2024-11-24T09:38:49.583655Z",
     "shell.execute_reply.started": "2024-11-24T09:38:49.497790Z"
    }
   },
   "outputs": [],
   "source": [
    "import time\n",
    "\n",
    "async def main_control_loop(goal_list):\n",
    "    \"\"\"\n",
    "    Main control loop structured as a finite state machine.\n",
    "    \"\"\"\n",
    "    # Starting state\n",
    "    state = 10\n",
    "    \n",
    "    # Constant forward speed\n",
    "    u_const = 4  # cm/s (adjust based on your robot's speed capabilities)\n",
    "\n",
    "    # Robot geometric parameters\n",
    "    base_width = 9.4   # cm\n",
    "    wheel_radius = 2.2 # cm\n",
    "\n",
    "    # Speed constant (convert thymio motor speed to forward speed)\n",
    "    speed_constant = 0.033615 # cm/s\n",
    "\n",
    "    # Time step\n",
    "    delta_t = 0.2  # seconds\n",
    "\n",
    "    # Initial errors for PID\n",
    "    phi_err_prev = 0\n",
    "    phi_err_acc = 0\n",
    "\n",
    "    # Signal to finish running the code indefinetely\n",
    "    done = False\n",
    "\n",
    "    while not done:\n",
    "        if state == 10:\n",
    "            node.send_set_variables(motors(0, 0))\n",
    "            time.sleep(3) # This can be removed, only used to adjust robot at the beginning and put back from kidnapping\n",
    "\n",
    "            # While loop used to detect whether the robot is on the ground, if it is not, it will be in the loop \n",
    "            threshold = 850\n",
    "            while True:\n",
    "                # Get ground sensor values\n",
    "                ground_sensor_values = await get_sensor_values('prox.ground.reflected')\n",
    "                \n",
    "                if ground_sensor_values[1] >= threshold and ground_sensor_values[0] >= threshold:\n",
    "                    print(\"Robot on the ground.:)\")\n",
    "                    break  # if the robot is placed on the ground\n",
    "            \n",
    "                print('I am being kidnapped :(, put me on the ground to continue')\n",
    "                time.sleep(delta_t) \n",
    "\n",
    "            time.sleep(3) # So the person can move and the camera can detect the position\n",
    "            \n",
    "            # Obtaining path\n",
    "            print('Obtaining path')\n",
    "            path, explored, operation_count = await a_star_search(Map, SearchStart, SearchGoal)\n",
    "            # Extract the key_points\n",
    "            goal_list = await goal_list_from_path(path)\n",
    "            print(goal_list)\n",
    "\n",
    "            # Initial robot position and orientation\n",
    "            x, y = goal_list[0][1], goal_list[0][0]\n",
    "            phi = -np.pi/2  # Initial orientation, pointing north\n",
    "        \n",
    "            # Start with the first goal\n",
    "            next_goal = 1\n",
    "            x_goal = goal_list[next_goal][1]\n",
    "            y_goal = goal_list[next_goal][0]\n",
    "        \n",
    "            control_x = [x]\n",
    "            control_y = [y]\n",
    "            it = 0\n",
    "    \n",
    "            state = 0\n",
    "    \n",
    "        while next_goal < len(goal_list):\n",
    "    \n",
    "            # Check if there are any obstacles\n",
    "            state_obstacles = await check_obstacles(proximity_threshold=2000)\n",
    "            \n",
    "            # Check to see if robot position changed very suddenly & ground sensors detected lifting\n",
    "            state_kidnap = await check_kidnapping()\n",
    "\n",
    "            # Combining states\n",
    "            if state_kidnap == 1:\n",
    "                state = 2  # Kidnapping \n",
    "            elif state_obstacles == 1:\n",
    "                state = 1  # Obstacle \n",
    "            else:\n",
    "                state = 0  # Normal operation\n",
    "            \n",
    "            # print(f\"The current state is: {state}\")\n",
    "            \n",
    "            if state == 0:\n",
    "                it += 1\n",
    "                #print(\"iteration\", it)\n",
    "                # Calculate pose error, only used orientation because the distance error is not necessary\n",
    "                _, phi_err = await get_pose_error(x_goal, y_goal, x, y, phi)\n",
    "                #print(\"pose error\", _, phi_err)\n",
    "                # Update orientation PID\n",
    "                phi_control, phi_err_prev, phi_err_acc = await pid_controller(\n",
    "                    phi_err, phi_err_prev, phi_err_acc, delta_t, kp=1, kd=0.05, ki=0.00)\n",
    "    \n",
    "                # Map control outputs to desired forward and angular speeds\n",
    "                u_d = u_const  # Constant forward speed\n",
    "                w_d = phi_control  # Angular speed from PID\n",
    "    \n",
    "                # Compute wheel speed commands\n",
    "                left_speed, right_speed = await wheel_speed_commands(u_d, w_d, base_width, wheel_radius)\n",
    "    \n",
    "                # Simulate robot motion using odometry\n",
    "                        # DEBUG\n",
    "                #print(\"predicted x: \", x)\n",
    "                #print(\"predicted y: \", y)\n",
    "                #print(\"goal x: \", x_goal)\n",
    "                #print(\"goal y: \", y_goal)\n",
    "                \n",
    "                # Scale to motor commands\n",
    "                left_speed *= wheel_radius / speed_constant\n",
    "                right_speed *= wheel_radius / speed_constant\n",
    "    \n",
    "                node.send_set_variables(motors(int(left_speed), int(right_speed)))\n",
    "    \n",
    "                #print(f\"Left Motor Speed: {int(left_speed)} Right Motor Speed: {int(right_speed)}\")\n",
    "    \n",
    "                # Check if goal is reached\n",
    "                dist_to_goal = np.sqrt((x_goal - x)**2 + (y_goal - y)**2)*14\n",
    "                if dist_to_goal < 3:  # 3 cm tolerance\n",
    "                    # print(\" \")\n",
    "                    print('******************************* goal reached *******************************')\n",
    "                    next_goal += 1\n",
    "                    print(f\"Before loop check, next_goal = {next_goal}, len(goal_list) = {len(goal_list)}\")\n",
    "                    if next_goal < len(goal_list):\n",
    "                        x_goal = goal_list[next_goal][1]\n",
    "                        y_goal = goal_list[next_goal][0]\n",
    "                    elif next_goal == len(goal_list):\n",
    "                        print('Goal Reached!')\n",
    "                        done = True # Flag to terminate outer loop\n",
    "                        break\n",
    "                # print(\" \")\n",
    "    \n",
    "                # Wait for the next iteration (optional for simulation)\n",
    "            elif state == 1:\n",
    "                print(\"Obstacle detected - obstacle avoidance\")\n",
    "                left_speed, right_speed = await obstacle_avoidance()\n",
    "            elif state == 2:\n",
    "                print('Kidnapping')\n",
    "                state = 10\n",
    "                break\n",
    "                \n",
    "            left_speed *=  speed_constant / wheel_radius\n",
    "            right_speed *= speed_constant / wheel_radius\n",
    "            \n",
    "            x, y, phi = await update_odometry(x, y, phi, left_speed, right_speed, base_width, wheel_radius, delta_t)\n",
    "            control_x.append(x)\n",
    "            control_y.append(y)\n",
    "            \n",
    "            \n",
    "            time.sleep(delta_t)\n",
    "            \n",
    "    # Stop robot at the end    \n",
    "    left_speed = 0\n",
    "    right_speed = 0\n",
    "    node.send_set_variables(motors(int(left_speed), int(right_speed)))\n",
    "\n",
    "    return control_x, control_y"
   ]
  },
  {
   "cell_type": "code",
   "execution_count": 109,
   "id": "5d13d1a6-2d0d-4cd9-807a-3adeef4659f2",
   "metadata": {
    "execution": {
     "iopub.execute_input": "2024-11-24T09:38:52.689101Z",
     "iopub.status.busy": "2024-11-24T09:38:52.689101Z",
     "iopub.status.idle": "2024-11-24T09:40:27.027867Z",
     "shell.execute_reply": "2024-11-24T09:40:27.027867Z",
     "shell.execute_reply.started": "2024-11-24T09:38:52.689101Z"
    }
   },
   "outputs": [
    {
     "name": "stdout",
     "output_type": "stream",
     "text": [
      "Robot on the ground.:)\n",
      "Obtaining path\n",
      "[(8, 5), (7, 4), (7, 3), (5, 1), (3, 1), (2, 2), (0, 2), (0, 0)]\n",
      "******************************* goal reached *******************************\n",
      "DEBUG: Before loop check, next_goal = 2, len(goal_list) = 8\n",
      "Obstacle detected - obstacle avoidance\n",
      "Left Motor: 113, Right Motor: -114\n",
      "Obstacle detected - obstacle avoidance\n",
      "Obstacle detected - obstacle avoidance\n",
      "Left Motor: 19, Right Motor: -48\n",
      "Obstacle detected - obstacle avoidance\n",
      "Obstacle detected - obstacle avoidance\n",
      "Left Motor: -8, Right Motor: -61\n",
      "Obstacle detected - obstacle avoidance\n",
      "Obstacle detected - obstacle avoidance\n",
      "Left Motor: -54, Right Motor: -54\n",
      "Obstacle detected - obstacle avoidance\n",
      "Obstacle detected - obstacle avoidance\n",
      "Left Motor: -88, Right Motor: 19\n",
      "Obstacle detected - obstacle avoidance\n",
      "******************************* goal reached *******************************\n",
      "DEBUG: Before loop check, next_goal = 3, len(goal_list) = 8\n",
      "Kidnapping detected! Robot lifted off the ground. Check_kidnapping function\n",
      "Kidnapping\n",
      "I am being kidnapped :(, put me on the ground to continue\n",
      "I am being kidnapped :(, put me on the ground to continue\n",
      "I am being kidnapped :(, put me on the ground to continue\n",
      "I am being kidnapped :(, put me on the ground to continue\n",
      "I am being kidnapped :(, put me on the ground to continue\n",
      "I am being kidnapped :(, put me on the ground to continue\n",
      "I am being kidnapped :(, put me on the ground to continue\n",
      "I am being kidnapped :(, put me on the ground to continue\n",
      "I am being kidnapped :(, put me on the ground to continue\n",
      "I am being kidnapped :(, put me on the ground to continue\n",
      "I am being kidnapped :(, put me on the ground to continue\n",
      "I am being kidnapped :(, put me on the ground to continue\n",
      "I am being kidnapped :(, put me on the ground to continue\n",
      "I am being kidnapped :(, put me on the ground to continue\n",
      "I am being kidnapped :(, put me on the ground to continue\n",
      "I am being kidnapped :(, put me on the ground to continue\n",
      "I am being kidnapped :(, put me on the ground to continue\n",
      "I am being kidnapped :(, put me on the ground to continue\n",
      "I am being kidnapped :(, put me on the ground to continue\n",
      "I am being kidnapped :(, put me on the ground to continue\n",
      "I am being kidnapped :(, put me on the ground to continue\n",
      "Robot on the ground.:)\n",
      "Obtaining path\n",
      "[(8, 5), (7, 4), (7, 3), (5, 1), (3, 1), (2, 2), (0, 2), (0, 0)]\n",
      "******************************* goal reached *******************************\n",
      "DEBUG: Before loop check, next_goal = 2, len(goal_list) = 8\n",
      "******************************* goal reached *******************************\n",
      "DEBUG: Before loop check, next_goal = 3, len(goal_list) = 8\n",
      "******************************* goal reached *******************************\n",
      "DEBUG: Before loop check, next_goal = 4, len(goal_list) = 8\n",
      "******************************* goal reached *******************************\n",
      "DEBUG: Before loop check, next_goal = 5, len(goal_list) = 8\n",
      "******************************* goal reached *******************************\n",
      "DEBUG: Before loop check, next_goal = 6, len(goal_list) = 8\n",
      "******************************* goal reached *******************************\n",
      "DEBUG: Before loop check, next_goal = 7, len(goal_list) = 8\n",
      "******************************* goal reached *******************************\n",
      "DEBUG: Before loop check, next_goal = 8, len(goal_list) = 8\n",
      "Next_goal is equal to length of goal list\n"
     ]
    }
   ],
   "source": [
    "control_x, control_y = await main_control_loop(goal_list)"
   ]
  },
  {
   "cell_type": "code",
   "execution_count": 105,
   "id": "2e96922b-1ef7-4b3c-9dfa-7ea05f2dbf8a",
   "metadata": {
    "execution": {
     "iopub.execute_input": "2024-11-24T09:37:20.976320Z",
     "iopub.status.busy": "2024-11-24T09:37:20.976320Z",
     "iopub.status.idle": "2024-11-24T09:37:20.996424Z",
     "shell.execute_reply": "2024-11-24T09:37:20.993874Z",
     "shell.execute_reply.started": "2024-11-24T09:37:20.976320Z"
    }
   },
   "outputs": [],
   "source": [
    "## For testing functionality\n",
    "node.send_set_variables(motors(0, 0))"
   ]
  },
  {
   "cell_type": "markdown",
   "id": "6e69f699-cf06-459c-9ca7-4c92bc0ef713",
   "metadata": {},
   "source": [
    "### 5.3 Mapping the robot's trajectory\n",
    "The following code creates a map based on the stored values for the robot's motion. This way it is possible to see where the obstacles were detected and which actions were taken to avoid them. "
   ]
  },
  {
   "cell_type": "code",
   "execution_count": 58,
   "id": "f99c87f2-0cd0-4007-916b-6a770717c0df",
   "metadata": {
    "execution": {
     "iopub.execute_input": "2024-11-23T20:31:32.835164Z",
     "iopub.status.busy": "2024-11-23T20:31:32.827167Z",
     "iopub.status.idle": "2024-11-23T20:31:34.176654Z",
     "shell.execute_reply": "2024-11-23T20:31:34.176654Z",
     "shell.execute_reply.started": "2024-11-23T20:31:32.827167Z"
    }
   },
   "outputs": [
    {
     "data": {
      "image/png": "[encoded data removed]",
      "text/plain": [
       "<Figure size 640x480 with 1 Axes>"
      ]
     },
     "metadata": {},
     "output_type": "display_data"
    }
   ],
   "source": [
    "import matplotlib.pyplot as plt\n",
    "import numpy as np\n",
    "\n",
    "ax = plt.gca()\n",
    "ax.invert_yaxis()\n",
    "ax.set_aspect('equal', adjustable='box')\n",
    "\n",
    "ct_x = control_x.copy()\n",
    "ct_y = control_y.copy()\n",
    "\n",
    "for i in range(len(control_x)):\n",
    "    ct_x[i] += 0.5\n",
    "    ct_y[i] += 0.5\n",
    "    \n",
    "plt.plot(ct_x, ct_y, linewidth = 1)\n",
    "\n",
    "x_goals = []\n",
    "y_goals = []\n",
    "\n",
    "for goal in goal_list:\n",
    "    x_goals.append(goal[1]+0.5)\n",
    "    y_goals.append(goal[0]+0.5)\n",
    "    \n",
    "plt.scatter(x_goals, y_goals, color=\"r\", marker=\"x\")\n",
    "\n",
    "ax.legend(['Control path', 'Goals'])\n",
    "plt.title(\"PID control simulated trajectory\")\n",
    "\n",
    "plt.xticks(np.arange(0, 7, step=1))\n",
    "plt.yticks(np.arange(0, 10, step=1))\n",
    "plt.grid()\n",
    "\n",
    "plt.savefig('motion_control.png', dpi=400)\n",
    "plt.show()"
   ]
  },
  {
   "cell_type": "code",
   "execution_count": null,
   "id": "1633e263-0668-4d2d-ab15-ee2b9c76817a",
   "metadata": {},
   "outputs": [],
   "source": []
  }
 ],
 "metadata": {
  "kernelspec": {
   "display_name": "Python 3 (ipykernel)",
   "language": "python",
   "name": "python3"
  },
  "language_info": {
   "codemirror_mode": {
    "name": "ipython",
    "version": 3
   },
   "file_extension": ".py",
   "mimetype": "text/x-python",
   "name": "python",
   "nbconvert_exporter": "python",
   "pygments_lexer": "ipython3",
   "version": "3.12.4"
  }
 },
 "nbformat": 4,
 "nbformat_minor": 5
}
